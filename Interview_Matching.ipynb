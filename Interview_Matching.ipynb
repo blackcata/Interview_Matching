{
 "cells": [
  {
   "cell_type": "code",
   "execution_count": 56,
   "metadata": {
    "collapsed": false
   },
   "outputs": [],
   "source": [
    "import random\n",
    "import csv"
   ]
  },
  {
   "cell_type": "code",
   "execution_count": 57,
   "metadata": {
    "collapsed": true
   },
   "outputs": [],
   "source": [
    "# Reading the each person's available time which is in 'Interview_apply.csv' file.\n",
    "\n",
    "with open('Interview_apply.csv') as csvfile:\n",
    "    reader    = csv.DictReader(csvfile) # All data of csv file\n",
    "    fieldname = reader.fieldnames # Category names\n",
    "    \n",
    "    int_list = [] # This list will consist of dual list structure\n",
    "    \n",
    "    for row in reader:\n",
    "        tmp = []\n",
    "        tmp.append(row[fieldname[0]]) # Append the name of applicant\n",
    "        tmp2 = []\n",
    "        \n",
    "        for it in fieldname[1:]:\n",
    "            if(int(row[it]) == 1):\n",
    "                tmp2.append(it)\n",
    "                \n",
    "        tmp.append(tmp2) # Append the available time of applicant \n",
    "        int_list.append(tmp) # Append applicants information\n",
    "    \n",
    "csvfile.close()"
   ]
  },
  {
   "cell_type": "code",
   "execution_count": 58,
   "metadata": {
    "collapsed": false
   },
   "outputs": [
    {
     "data": {
      "text/plain": [
       "7"
      ]
     },
     "execution_count": 58,
     "metadata": {},
     "output_type": "execute_result"
    }
   ],
   "source": [
    "len(int_list)"
   ]
  },
  {
   "cell_type": "code",
   "execution_count": 59,
   "metadata": {
    "collapsed": true
   },
   "outputs": [],
   "source": [
    "# Calculate how many times are available to each person\n",
    "# Because this interview matchin program algorithm is designed to \n",
    "# assign the interview time for least avialable time first. And lean on some randomness\n",
    "\n",
    "total_num = len(int_list) # The number of applicant\n",
    "tmp_num = [] # Each persons number of possible time \n",
    "\n",
    "for it in int_list:\n",
    "    tmp = []\n",
    "    tmp.append(len(it[1]))\n",
    "    tmp_num.append(len(it[1]))"
   ]
  },
  {
   "cell_type": "code",
   "execution_count": null,
   "metadata": {
    "collapsed": true
   },
   "outputs": [],
   "source": []
  },
  {
   "cell_type": "code",
   "execution_count": 60,
   "metadata": {
    "collapsed": false,
    "scrolled": true
   },
   "outputs": [
    {
     "name": "stdout",
     "output_type": "stream",
     "text": [
      "['A', '11:30 ~ 12:00'] 2\n",
      "11:30 ~ 12:00 2\n",
      "['E', '10:30 ~ 11:00'] 1\n",
      "11:30 ~ 12:00 3\n",
      "10:30 ~ 11:00 1\n",
      "['B', '10:00 ~ 10:30'] 1\n",
      "10:30 ~ 11:00 1\n",
      "10:00 ~ 10:30 0\n",
      "['F', '15:30 ~ 16:30'] 3\n",
      "10:30 ~ 11:00 0\n",
      "15:30 ~ 16:30 4\n",
      "['C', '14:00 ~ 14:30'] 3\n",
      "11:30 ~ 12:00 1\n",
      "15:30 ~ 16:30 4\n",
      "['D', '14:30 ~ 15:00'] 3\n",
      "11:30 ~ 12:00 2\n",
      "10:30 ~ 11:00 1\n",
      "10:00 ~ 10:30 0\n",
      "14:00 ~ 14:30 2\n",
      "14:30 ~ 15:00 2\n",
      "['G', '13:30 ~ 14:00'] 2\n"
     ]
    }
   ],
   "source": [
    "# Match each interview time since the person who has the least number of possible time.\n",
    "\n",
    "int_result   = []\n",
    "allocate_num = []\n",
    "\n",
    "for it in range(len(int_list)):\n",
    "    \n",
    "    tmp = []\n",
    "    index_tmp = tmp_num.index(min(tmp_num))\n",
    "    order_tmp = int_list[index_tmp][1]\n",
    "\n",
    "    for it2 in allocate_num:\n",
    "        try:\n",
    "            index_tmp2 = order_tmp.index(it2)\n",
    "            print(it2,index_tmp2)\n",
    "            del(order_tmp[index_tmp2])\n",
    "        except:\n",
    "            continue\n",
    "\n",
    "    ran_index = random.randint(1,len(order_tmp))            \n",
    "    tmp.append(int_list[index_tmp][0])\n",
    "    tmp.append(order_tmp[ran_index-1])\n",
    "                \n",
    "    int_result.append(tmp)\n",
    "    \n",
    "    print(tmp,ran_index)\n",
    "    \n",
    "    if(not order_tmp[ran_index-1] in allocate_num):\n",
    "        allocate_num.append(order_tmp[ran_index-1])\n",
    "\n",
    "    tmp_num[index_tmp] += total_num*10 # This number has to be bigger than total number of people\n",
    "\n",
    "avail_time = [] # Available times of applicant \n",
    "\n",
    "for time in int_result:\n",
    "    avail_time.append(time[1])"
   ]
  },
  {
   "cell_type": "code",
   "execution_count": 62,
   "metadata": {
    "collapsed": false
   },
   "outputs": [],
   "source": [
    "# Write down the result of matched interview time.\n",
    "\n",
    "csv_name = 'Interview_result.csv'\n",
    "csv_file = open(csv_name,'w')\n",
    "cw = csv.writer(csv_file , delimiter=',')\n",
    "cw.writerow(['Time','Name'])\n",
    "\n",
    "for time in fieldname[1:]:\n",
    "    for it in range(len(int_result)):\n",
    "        if (not time in avail_time):\n",
    "            cw.writerow([time,'No one'])\n",
    "            break\n",
    "\n",
    "        if (int_result[it][1] == time):\n",
    "            cw.writerow([time,int_result[it][0]])"
   ]
  },
  {
   "cell_type": "code",
   "execution_count": null,
   "metadata": {
    "collapsed": true
   },
   "outputs": [],
   "source": []
  }
 ],
 "metadata": {
  "kernelspec": {
   "display_name": "Python 3",
   "language": "python",
   "name": "python3"
  },
  "language_info": {
   "codemirror_mode": {
    "name": "ipython",
    "version": 3
   },
   "file_extension": ".py",
   "mimetype": "text/x-python",
   "name": "python",
   "nbconvert_exporter": "python",
   "pygments_lexer": "ipython3",
   "version": "3.4.2"
  }
 },
 "nbformat": 4,
 "nbformat_minor": 0
}
