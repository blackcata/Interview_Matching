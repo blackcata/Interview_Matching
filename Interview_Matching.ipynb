{
 "cells": [
  {
   "cell_type": "code",
   "execution_count": 8,
   "metadata": {
    "collapsed": false
   },
   "outputs": [],
   "source": [
    "#----------------------------------------------------------!\n",
    "#\n",
    "# This program has been created to matching interviewee to\n",
    "# each available time. \n",
    "# It can allocate multi people to each time and it is\n",
    "# controlled by the 'key_num'\n",
    "#\n",
    "# You need random,csvlibrary\n",
    "#\n",
    "# Kyung Min Noh, 2015\n",
    "#\n",
    "#----------------------------------------------------------!\n",
    "import random\n",
    "import csv"
   ]
  },
  {
   "cell_type": "code",
   "execution_count": 9,
   "metadata": {
    "collapsed": true
   },
   "outputs": [],
   "source": [
    "# Reading the each person's available time which is in 'Interview_apply.csv' file.\n",
    "\n",
    "with open('Interview_apply.csv') as csvfile:\n",
    "    reader    = csv.DictReader(csvfile) # All data of csv file\n",
    "    fieldname = reader.fieldnames # Category names\n",
    "    \n",
    "    int_list = [] # This list will consist of dual list structure\n",
    "    \n",
    "    for row in reader:\n",
    "        tmp = []\n",
    "        tmp.append(row[fieldname[0]]) # Append the name of applicant\n",
    "        tmp2 = []\n",
    "        \n",
    "        for it in fieldname[1:]:\n",
    "            if(int(row[it]) == 1):\n",
    "                tmp2.append(it)\n",
    "                \n",
    "        tmp.append(tmp2) # Append the available time of applicant \n",
    "        int_list.append(tmp) # Append applicants information\n",
    "    \n",
    "csvfile.close()"
   ]
  },
  {
   "cell_type": "code",
   "execution_count": 10,
   "metadata": {
    "collapsed": false
   },
   "outputs": [],
   "source": [
    "# Making the Time_available list \n",
    "key_num   = 3 # The number of people which can be allocated to each time \n",
    "time_list = fieldname[1:]\n",
    "\n",
    "time_avail_list = []\n",
    "for it in range(len(time_list)):\n",
    "    tmp = []\n",
    "    tmp.append(time_list[it])\n",
    "    tmp.append(key_num)\n",
    "    \n",
    "    time_avail_list.append(tmp)"
   ]
  },
  {
   "cell_type": "code",
   "execution_count": 11,
   "metadata": {
    "collapsed": true
   },
   "outputs": [],
   "source": [
    "# Calculate how many times are available to each person\n",
    "# Because this interview matchin program algorithm is designed to \n",
    "# assign the interview time for least avialable time first. And lean on some randomness\n",
    "\n",
    "total_num = len(int_list) # The number of applicant\n",
    "tmp_num = [] # Each persons number of possible time \n",
    "\n",
    "for it in int_list:\n",
    "    tmp = []\n",
    "    tmp.append(len(it[1]))\n",
    "    tmp_num.append(len(it[1]))"
   ]
  },
  {
   "cell_type": "code",
   "execution_count": 12,
   "metadata": {
    "collapsed": false,
    "scrolled": true
   },
   "outputs": [],
   "source": [
    "# Match each interview time since the person who has the least number of possible time.\n",
    "\n",
    "int_result   = []\n",
    "\n",
    "for it in range(len(int_list)):\n",
    "    \n",
    "    tmp = []\n",
    "    index_tmp = tmp_num.index(min(tmp_num))\n",
    "    order_tmp = int_list[index_tmp][1]\n",
    "\n",
    "    for it3 in order_tmp:\n",
    "        avail_tmp = []\n",
    "        avail_tmp.append(it3)\n",
    "        avail_tmp.append(0)\n",
    "        \n",
    "        if (avail_tmp in time_avail_list):\n",
    "            index_tmp3 = order_tmp.index(it3)\n",
    "            del(order_tmp[index_tmp3])\n",
    "\n",
    "    ran_index = random.randint(1,len(order_tmp))            \n",
    "    tmp.append(int_list[index_tmp][0])\n",
    "    tmp.append(order_tmp[ran_index-1])\n",
    "    \n",
    "    index_tmp4 = time_list.index(order_tmp[ran_index-1])\n",
    "    time_avail_list[index_tmp4][1] -= 1\n",
    "    \n",
    "    int_result.append(tmp)\n",
    "\n",
    "    tmp_num[index_tmp] += total_num*10 # This number has to be bigger than total number of people\n",
    "    \n",
    "avail_time = [] # Available times of applicant \n",
    "\n",
    "for time in int_result:\n",
    "    avail_time.append(time[1])"
   ]
  },
  {
   "cell_type": "code",
   "execution_count": 16,
   "metadata": {
    "collapsed": false
   },
   "outputs": [],
   "source": [
    "# Write down the result of matched interview time.\n",
    "\n",
    "csv_name = 'Interview_result.csv'\n",
    "csv_file = open(csv_name,'w')\n",
    "\n",
    "cw = csv.writer(csv_file)\n",
    "\n",
    "category = []\n",
    "category.append('Time')\n",
    "\n",
    "for it in range(1,key_num+1):\n",
    "    category.append('Name'+str(it))\n",
    "    \n",
    "cw.writerow(category)\n",
    "\n",
    "time_allocate = []\n",
    "\n",
    "for time in fieldname[1:]:\n",
    "    tmp = []\n",
    "    tmp.append(time)\n",
    "    for it in range(len(int_result)):\n",
    "        if (not time in avail_time):\n",
    "            tmp.append('No one')\n",
    "            break\n",
    "\n",
    "        if (int_result[it][1] == time):\n",
    "            tmp.append(int_result[it][0])\n",
    "    time_allocate.append(tmp)\n",
    "    \n",
    "for it in time_allocate:\n",
    "    cw.writerow(it)"
   ]
  }
 ],
 "metadata": {
  "kernelspec": {
   "display_name": "Python 3",
   "language": "python",
   "name": "python3"
  },
  "language_info": {
   "codemirror_mode": {
    "name": "ipython",
    "version": 3
   },
   "file_extension": ".py",
   "mimetype": "text/x-python",
   "name": "python",
   "nbconvert_exporter": "python",
   "pygments_lexer": "ipython3",
   "version": "3.4.2"
  }
 },
 "nbformat": 4,
 "nbformat_minor": 0
}
